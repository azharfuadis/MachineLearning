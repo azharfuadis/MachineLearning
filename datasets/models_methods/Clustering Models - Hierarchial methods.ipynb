{
 "cells": [
  {
   "cell_type": "markdown",
   "metadata": {
    "collapsed": true
   },
   "source": [
    "# Clustering Models\n",
    "## Hierarchial methods\n",
    "#### Setting up for clustering analysis"
   ]
  },
  {
   "cell_type": "code",
   "execution_count": 1,
   "metadata": {},
   "outputs": [],
   "source": [
    "import numpy as np\n",
    "import pandas as pd\n",
    "\n",
    "import matplotlib.pyplot as plt\n",
    "from pylab import rcParams\n",
    "import seaborn as sb\n",
    "\n",
    "import sklearn\n",
    "import sklearn.metrics as sm"
   ]
  },
  {
   "cell_type": "code",
   "execution_count": 2,
   "metadata": {},
   "outputs": [],
   "source": [
    "from sklearn.cluster import AgglomerativeClustering\n",
    "\n",
    "import scipy\n",
    "from scipy.cluster.hierarchy import dendrogram, linkage\n",
    "from scipy.cluster.hierarchy import fcluster\n",
    "from scipy.cluster.hierarchy import cophenet\n",
    "from scipy.spatial.distance import pdist"
   ]
  },
  {
   "cell_type": "code",
   "execution_count": 3,
   "metadata": {},
   "outputs": [],
   "source": [
    "# Number of digits of precision for floating point output (default 8). \n",
    "# May be None if floatmode is not fixed, to print as many digits as necessary to uniquely specify the value.\n",
    "\n",
    "# suppress -> If True, always print floating point numbers using fixed point notation, \n",
    "# in which case numbers equal to zero in the current precision will print as zero. \n",
    "\n",
    "# suppress -> If False, then scientific notation is used when absolute value of the smallest number is < 1e-4 or \n",
    "# the ratio of the maximum absolute value to the minimum is > 1e3. The default is False.\n",
    "np.set_printoptions(precision=4, suppress=True)\n",
    "plt.figure(figsize=(10, 3))\n",
    "%matplotlib inline\n",
    "plt.style.use('seaborn-whitegrid')"
   ]
  },
  {
   "cell_type": "code",
   "execution_count": 4,
   "metadata": {},
   "outputs": [],
   "source": [
    "address = 'mtcars.csv'\n",
    "\n",
    "cars = pd.read_csv(address)\n",
    "cars.columns = ['car_names','mpg','cyl','disp', 'hp', 'drat', 'wt', 'qsec', 'vs', 'am', 'gear', 'carb']\n",
    "\n",
    "# dataset\n",
    "X = cars[['mpg', 'disp', 'hp', 'wt']].values\n",
    "\n",
    "# target -> car has an automatic/manual transmission, col position 9\n",
    "y = cars.iloc[:,(9)].values"
   ]
  },
  {
   "cell_type": "markdown",
   "metadata": {
    "collapsed": true
   },
   "source": [
    "### Using scipy to generate dendrograms"
   ]
  },
  {
   "cell_type": "code",
   "execution_count": 6,
   "metadata": {},
   "outputs": [],
   "source": [
    "# 'ward' as linkage method\n",
    "# Z is the clustering result that has been generated from scipy's hierarchical clustering algorithm\n",
    "Z = linkage(X, 'ward')"
   ]
  },
  {
   "cell_type": "code",
   "execution_count": 7,
   "metadata": {},
   "outputs": [
    {
     "data": {
      "image/png": "[encoded data removed]",
      "text/plain": [
       "<Figure size 432x288 with 1 Axes>"
      ]
     },
     "metadata": {},
     "output_type": "display_data"
    }
   ],
   "source": [
    "dendrogram(Z, truncate_mode='lastp', p=12, leaf_rotation=45., leaf_font_size=15, show_contracted=True)\n",
    "\n",
    "plt.title('Truncated Hierarchial Clustering Diagram')\n",
    "plt.xlabel('Cluster Size')\n",
    "plt.ylabel('Distance')\n",
    "\n",
    "# set a line for y-axis, to count how many clusters to use in our model, \n",
    "# it helps you get an accurate count of the predicted number of clusters\n",
    "plt.axhline(y=500) # ax horizontal line\n",
    "plt.axhline(y=150)\n",
    "plt.show()\n",
    "\n",
    "# goal is to pick an approximate number of subgroups"
   ]
  },
  {
   "cell_type": "markdown",
   "metadata": {},
   "source": [
    "## Generating hierarchical clusters"
   ]
  },
  {
   "cell_type": "code",
   "execution_count": 8,
   "metadata": {},
   "outputs": [
    {
     "data": {
      "text/plain": [
       "0.78125"
      ]
     },
     "execution_count": 8,
     "metadata": {},
     "output_type": "execute_result"
    }
   ],
   "source": [
    "# pick 2 as the number of clusters to use in our model\n",
    "# it says that we have a distance between data points and its nearest neighbors and that distance should be set at a maxi of 400\n",
    "# this is because there are 2 clusters in the model\n",
    "\n",
    "# we're gonna say we want a max distance betweend ata point of 500, with 500 set as our max distance between nearest neighbors\n",
    "\n",
    "k=2\n",
    "\n",
    "Hclustering = AgglomerativeClustering(n_clusters=k, affinity='euclidean', linkage='ward')\n",
    "Hclustering.fit(X)\n",
    "\n",
    "# generate accuracy score\n",
    "sm.accuracy_score(y, Hclustering.labels_)\n",
    "\n",
    "# note:\n",
    "# manhattan was provided as affinity. Ward can only work with euclidean distances."
   ]
  },
  {
   "cell_type": "code",
   "execution_count": 9,
   "metadata": {},
   "outputs": [
    {
     "data": {
      "text/plain": [
       "0.78125"
      ]
     },
     "execution_count": 9,
     "metadata": {},
     "output_type": "execute_result"
    }
   ],
   "source": [
    "# Hclustering -> clustering object\n",
    "Hclustering = AgglomerativeClustering(n_clusters=k, affinity='euclidean', linkage='average')\n",
    "Hclustering.fit(X)\n",
    "\n",
    "sm.accuracy_score(y, Hclustering.labels_)"
   ]
  },
  {
   "cell_type": "code",
   "execution_count": 10,
   "metadata": {},
   "outputs": [
    {
     "data": {
      "text/plain": [
       "0.71875"
      ]
     },
     "execution_count": 10,
     "metadata": {},
     "output_type": "execute_result"
    }
   ],
   "source": [
    "# deploy each and every different type of combination of parameters that are possible with this dataset to see the best results\n",
    "Hclustering = AgglomerativeClustering(n_clusters=k, affinity='manhattan', linkage='average')\n",
    "Hclustering.fit(X)\n",
    "\n",
    "sm.accuracy_score(y, Hclustering.labels_)\n",
    "\n",
    "# best scoring"
   ]
  }
 ],
 "metadata": {
  "anaconda-cloud": {},
  "kernelspec": {
   "display_name": "Python 3 (ipykernel)",
   "language": "python",
   "name": "python3"
  },
  "language_info": {
   "codemirror_mode": {
    "name": "ipython",
    "version": 3
   },
   "file_extension": ".py",
   "mimetype": "text/x-python",
   "name": "python",
   "nbconvert_exporter": "python",
   "pygments_lexer": "ipython3",
   "version": "3.8.5"
  }
 },
 "nbformat": 4,
 "nbformat_minor": 1
}
