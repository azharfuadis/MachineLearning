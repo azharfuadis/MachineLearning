{
 "cells": [
  {
   "cell_type": "markdown",
   "metadata": {},
   "source": [
    "# Other Popular Machine Learning Methods\n",
    "## Naive Bayes Classifiers"
   ]
  },
  {
   "cell_type": "code",
   "execution_count": 1,
   "metadata": {},
   "outputs": [],
   "source": [
    "import numpy as np\n",
    "import pandas as pd\n",
    "import urllib\n",
    "import sklearn\n",
    "\n",
    "from sklearn.model_selection import train_test_split\n",
    "from sklearn import metrics\n",
    "from sklearn.metrics import accuracy_score"
   ]
  },
  {
   "cell_type": "code",
   "execution_count": 2,
   "metadata": {},
   "outputs": [],
   "source": [
    "from sklearn.naive_bayes import BernoulliNB\n",
    "from sklearn.naive_bayes import GaussianNB\n",
    "from sklearn.naive_bayes import MultinomialNB"
   ]
  },
  {
   "cell_type": "markdown",
   "metadata": {},
   "source": [
    "## Naive Bayes\n",
    "### Using Naive Bayes to predict spam"
   ]
  },
  {
   "cell_type": "code",
   "execution_count": 3,
   "metadata": {
    "scrolled": true
   },
   "outputs": [
    {
     "name": "stdout",
     "output_type": "stream",
     "text": [
      "[  0.      0.64    0.64    0.      0.32    0.      0.      0.      0.\n",
      "   0.      0.      0.64    0.      0.      0.      0.32    0.      1.29\n",
      "   1.93    0.      0.96    0.      0.      0.      0.      0.      0.\n",
      "   0.      0.      0.      0.      0.      0.      0.      0.      0.\n",
      "   0.      0.      0.      0.      0.      0.      0.      0.      0.\n",
      "   0.      0.      0.      0.      0.      0.      0.778   0.      0.\n",
      "   3.756  61.    278.      1.   ]\n"
     ]
    }
   ],
   "source": [
    "url = \"https://archive.ics.uci.edu/ml/machine-learning-databases/spambase/spambase.data\"\n",
    "\n",
    "# import request module\n",
    "import urllib.request\n",
    "\n",
    "raw_data = urllib.request.urlopen(url)\n",
    "\n",
    "# treat dataset like csv file\n",
    "dataset = np.loadtxt(raw_data, delimiter=',')\n",
    "\n",
    "# preview column 0\n",
    "print(dataset[0])"
   ]
  },
  {
   "cell_type": "code",
   "execution_count": 7,
   "metadata": {},
   "outputs": [
    {
     "data": {
      "text/plain": [
       "array([[0.000e+00, 6.400e-01, 6.400e-01, ..., 6.100e+01, 2.780e+02,\n",
       "        1.000e+00],\n",
       "       [2.100e-01, 2.800e-01, 5.000e-01, ..., 1.010e+02, 1.028e+03,\n",
       "        1.000e+00],\n",
       "       [6.000e-02, 0.000e+00, 7.100e-01, ..., 4.850e+02, 2.259e+03,\n",
       "        1.000e+00],\n",
       "       ...,\n",
       "       [3.000e-01, 0.000e+00, 3.000e-01, ..., 6.000e+00, 1.180e+02,\n",
       "        0.000e+00],\n",
       "       [9.600e-01, 0.000e+00, 0.000e+00, ..., 5.000e+00, 7.800e+01,\n",
       "        0.000e+00],\n",
       "       [0.000e+00, 0.000e+00, 6.500e-01, ..., 5.000e+00, 4.000e+01,\n",
       "        0.000e+00]])"
      ]
     },
     "metadata": {},
     "output_type": "display_data"
    },
    {
     "data": {
      "text/plain": [
       "(4601, 58)"
      ]
     },
     "metadata": {},
     "output_type": "display_data"
    }
   ],
   "source": [
    "display(dataset)\n",
    "display(dataset.shape)"
   ]
  },
  {
   "cell_type": "code",
   "execution_count": 8,
   "metadata": {},
   "outputs": [],
   "source": [
    "# isolate predictive variables from this dataset\n",
    "# the variables that describe word frequencies are standardized on the same scale, \n",
    "# where other variables have differing magnitudes\n",
    "\n",
    "# the reasonable thing to do is to only analyze the 48 features that describe word frequency counts\n",
    "# the side benefit of this is there's no pre-processing requirement\n",
    "\n",
    "# predictive dataset, only first 48 variables\n",
    "X = dataset[:,0:48]\n",
    "\n",
    "# isolate our target variable\n",
    "# spam label in the records dataset, spam -> 1, not spam -> 0\n",
    "y = dataset[:,-1]"
   ]
  },
  {
   "cell_type": "code",
   "execution_count": 9,
   "metadata": {},
   "outputs": [],
   "source": [
    "# break up data to training and test set, 80-20 split\n",
    "X_train, X_test, y_train, y_test = train_test_split(X, y, test_size=.2, random_state=17)"
   ]
  },
  {
   "cell_type": "code",
   "execution_count": 11,
   "metadata": {},
   "outputs": [
    {
     "name": "stdout",
     "output_type": "stream",
     "text": [
      "BernoulliNB(binarize=True)\n",
      "0.8577633007600435\n"
     ]
    }
   ],
   "source": [
    "# data is comprised of continuous variables that describe frequency count of words\n",
    "# try bernoulli with (binarize=True, default setting) binning to convert the frequency count to binary values\n",
    "\n",
    "# binarize -> Threshold for binarizing (mapping to booleans) of sample features. \n",
    "# If None, input is presumed to already consist of binary vectors.\n",
    "\n",
    "BernNB = BernoulliNB(binarize=True)\n",
    "BernNB.fit(X_train, y_train)\n",
    "print(BernNB)\n",
    "\n",
    "# test the model's accuracy\n",
    "y_expect = y_test\n",
    "y_pred = BernNB.predict(X_test)\n",
    "\n",
    "# get accuracy score\n",
    "print(accuracy_score(y_expect, y_pred))\n",
    "\n",
    "# getting accuracy score of 86% for this model"
   ]
  },
  {
   "cell_type": "code",
   "execution_count": 12,
   "metadata": {},
   "outputs": [
    {
     "name": "stdout",
     "output_type": "stream",
     "text": [
      "MultinomialNB()\n",
      "0.8816503800217155\n"
     ]
    }
   ],
   "source": [
    "# multinomial naive bayes is a great candidate\n",
    "MultiNB = MultinomialNB()\n",
    "MultiNB.fit(X_train, y_train)\n",
    "print(MultiNB)\n",
    "\n",
    "# we don't need y_test beacuse we've already generated a y-expect variable\n",
    "y_pred = MultiNB.predict(X_test)\n",
    "\n",
    "print(accuracy_score(y_expect, y_pred))\n",
    "\n",
    "# getting accuracy score of 88% for this model (a little better than bernoulli)\n",
    "# has a higher accuracy score "
   ]
  },
  {
   "cell_type": "code",
   "execution_count": 14,
   "metadata": {},
   "outputs": [
    {
     "name": "stdout",
     "output_type": "stream",
     "text": [
      "GaussianNB()\n",
      "0.8197611292073833\n"
     ]
    }
   ],
   "source": [
    "# since all our datasets are all numeric, technically we could try out a gassian naive bayes classifier\n",
    "GausNB = GaussianNB()\n",
    "GausNB.fit(X_train, y_train)\n",
    "print(GausNB)\n",
    "\n",
    "\n",
    "y_pred = GausNB.predict(X_test)\n",
    "\n",
    "print(accuracy_score(y_expect, y_pred))\n",
    "\n",
    "# getting accuracy score of 82% for this model"
   ]
  },
  {
   "cell_type": "code",
   "execution_count": 15,
   "metadata": {},
   "outputs": [
    {
     "name": "stdout",
     "output_type": "stream",
     "text": [
      "BernoulliNB(binarize=0.1)\n",
      "0.9109663409337676\n"
     ]
    }
   ],
   "source": [
    "# improve bernoulli with trial and error, we set our paramter = 0.1, so we get optimal results\n",
    "BernNB = BernoulliNB(binarize=0.1)\n",
    "BernNB.fit(X_train, y_train)\n",
    "print(BernNB)\n",
    "\n",
    "y_expect = y_test\n",
    "y_pred = BernNB.predict(X_test)\n",
    "\n",
    "print(accuracy_score(y_expect, y_pred))\n",
    "# getting accuracy score of 91% for this model\n",
    "# best model, note to adjust your model parameter settings to get the best performance for your models"
   ]
  },
  {
   "cell_type": "code",
   "execution_count": 16,
   "metadata": {},
   "outputs": [
    {
     "data": {
      "text/plain": [
       "BernoulliNB()"
      ]
     },
     "execution_count": 16,
     "metadata": {},
     "output_type": "execute_result"
    }
   ],
   "source": [
    "import numpy as np\n",
    "rng = np.random.RandomState(1)\n",
    "X = rng.randint(5, size=(6, 100))\n",
    "Y = np.array([1, 2, 3, 4, 4, 5])\n",
    "from sklearn.naive_bayes import BernoulliNB\n",
    "clf = BernoulliNB()\n",
    "clf.fit(X, Y)"
   ]
  },
  {
   "cell_type": "code",
   "execution_count": 17,
   "metadata": {},
   "outputs": [
    {
     "name": "stdout",
     "output_type": "stream",
     "text": [
      "[3]\n"
     ]
    }
   ],
   "source": [
    "print(clf.predict(X[2:3]))"
   ]
  }
 ],
 "metadata": {
  "anaconda-cloud": {},
  "kernelspec": {
   "display_name": "Python 3 (ipykernel)",
   "language": "python",
   "name": "python3"
  },
  "language_info": {
   "codemirror_mode": {
    "name": "ipython",
    "version": 3
   },
   "file_extension": ".py",
   "mimetype": "text/x-python",
   "name": "python",
   "nbconvert_exporter": "python",
   "pygments_lexer": "ipython3",
   "version": "3.8.5"
  }
 },
 "nbformat": 4,
 "nbformat_minor": 1
}
