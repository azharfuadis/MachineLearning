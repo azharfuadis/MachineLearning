{
 "cells": [
  {
   "cell_type": "markdown",
   "metadata": {},
   "source": [
    "# Other Popular Machine Learning Methods\n",
    "## A neural network with a Perceptron"
   ]
  },
  {
   "cell_type": "code",
   "execution_count": 8,
   "metadata": {},
   "outputs": [],
   "source": [
    "import numpy as np\n",
    "import pandas as pd\n",
    "import sklearn\n",
    "\n",
    "from pandas import Series, DataFrame\n",
    "from sklearn import datasets\n",
    "from sklearn.preprocessing import StandardScaler\n",
    "from sklearn.model_selection import train_test_split\n",
    "from sklearn.metrics import confusion_matrix, classification_report"
   ]
  },
  {
   "cell_type": "code",
   "execution_count": 9,
   "metadata": {},
   "outputs": [],
   "source": [
    "# import perceptron\n",
    "from sklearn.linear_model import Perceptron"
   ]
  },
  {
   "cell_type": "code",
   "execution_count": 10,
   "metadata": {},
   "outputs": [
    {
     "data": {
      "text/plain": [
       "array([[5.1, 3.5, 1.4, 0.2],\n",
       "       [4.9, 3. , 1.4, 0.2],\n",
       "       [4.7, 3.2, 1.3, 0.2],\n",
       "       [4.6, 3.1, 1.5, 0.2],\n",
       "       [5. , 3.6, 1.4, 0.2],\n",
       "       [5.4, 3.9, 1.7, 0.4],\n",
       "       [4.6, 3.4, 1.4, 0.3],\n",
       "       [5. , 3.4, 1.5, 0.2],\n",
       "       [4.4, 2.9, 1.4, 0.2],\n",
       "       [4.9, 3.1, 1.5, 0.1]])"
      ]
     },
     "execution_count": 10,
     "metadata": {},
     "output_type": "execute_result"
    }
   ],
   "source": [
    "iris = datasets.load_iris()\n",
    "\n",
    "X = iris.data\n",
    "y = iris.target\n",
    "\n",
    "# predictive features\n",
    "X[0:10,]"
   ]
  },
  {
   "cell_type": "code",
   "execution_count": 11,
   "metadata": {},
   "outputs": [],
   "source": [
    "# split data, 80-20 split\n",
    "X_train, X_test, y_train, y_test = train_test_split(X, y, test_size=0.2)"
   ]
  },
  {
   "cell_type": "code",
   "execution_count": 12,
   "metadata": {},
   "outputs": [],
   "source": [
    "# normalize data, instantiate a standardscaler object\n",
    "standardize = StandardScaler()\n",
    "\n",
    "standardized_X_test = standardize.fit_transform(X_test)\n",
    "\n",
    "standardized_X_train = standardize.fit_transform(X_train)"
   ]
  },
  {
   "cell_type": "code",
   "execution_count": 14,
   "metadata": {
    "scrolled": true
   },
   "outputs": [
    {
     "data": {
      "text/plain": [
       "array([[ 8.59484782e-01, -2.19320028e-15,  1.06703906e+00,\n",
       "         1.27109354e+00],\n",
       "       [-1.28922717e+00,  9.87729597e-01, -1.63724461e+00,\n",
       "        -1.66219924e+00],\n",
       "       [-1.43247464e-01, -7.40797197e-01,  6.26806834e-01,\n",
       "         8.31099619e-01],\n",
       "       [ 5.72989855e-01,  7.40797197e-01,  1.19281969e+00,\n",
       "         1.71108745e+00],\n",
       "       [ 8.59484782e-01, -2.19320028e-15,  8.78368105e-01,\n",
       "         6.84434981e-01],\n",
       "       [ 8.59484782e-01, -4.93864798e-01,  3.12355245e-01,\n",
       "         2.44441065e-01],\n",
       "       [-1.14597971e+00, -1.23466200e+00, -6.93889839e-01,\n",
       "        -3.42217490e-01],\n",
       "       [ 7.16237318e-01, -2.46932399e-01,  1.23684292e-01,\n",
       "        -4.88882129e-02],\n",
       "       [ 1.14597971e+00, -1.23466200e+00,  1.06703906e+00,\n",
       "         6.84434981e-01],\n",
       "       [-1.00273225e+00,  1.23466200e+00, -1.63724461e+00,\n",
       "        -1.66219924e+00]])"
      ]
     },
     "execution_count": 14,
     "metadata": {},
     "output_type": "execute_result"
    }
   ],
   "source": [
    "standardized_X_test[:10]\n",
    "# or -> standardized_X_test[0:10,]"
   ]
  },
  {
   "cell_type": "code",
   "execution_count": 15,
   "metadata": {},
   "outputs": [
    {
     "data": {
      "text/plain": [
       "Perceptron(eta0=0.15, max_iter=50, random_state=15)"
      ]
     },
     "execution_count": 15,
     "metadata": {},
     "output_type": "execute_result"
    }
   ],
   "source": [
    "# create a perceptron\n",
    "# we want to set up the model parameter so that it passes over the data a maximum of 50 times, learning rate = .15\n",
    "# tolerance to be set 10^-3, random state to set the seed so you get the same results\n",
    "perceptron = Perceptron(max_iter=50, eta0=0.15, tol=1e-3, random_state=15)\n",
    "\n",
    "# train the model\n",
    "# ravel -> change a 2-dimensional array or a multi-dimensional array into a contiguous flattened array\n",
    "perceptron.fit(standardized_X_train, y_train.ravel())"
   ]
  },
  {
   "cell_type": "code",
   "execution_count": 16,
   "metadata": {},
   "outputs": [],
   "source": [
    "# make a prediction using the train model on the past data\n",
    "y_pred = perceptron.predict(standardized_X_test)"
   ]
  },
  {
   "cell_type": "code",
   "execution_count": 17,
   "metadata": {},
   "outputs": [
    {
     "name": "stdout",
     "output_type": "stream",
     "text": [
      "[2 0 2 2 2 1 1 1 2 0 0 0 0 1 0 1 2 1 0 1 2 2 1 1 1 1 1 1 2 2]\n"
     ]
    }
   ],
   "source": [
    "# compare the model vs what the test data\n",
    "print(y_test)"
   ]
  },
  {
   "cell_type": "code",
   "execution_count": 18,
   "metadata": {},
   "outputs": [
    {
     "name": "stdout",
     "output_type": "stream",
     "text": [
      "[2 0 2 2 2 1 1 0 2 0 0 1 0 0 0 1 2 0 0 0 2 2 1 1 1 0 0 1 2 2]\n"
     ]
    }
   ],
   "source": [
    "print(y_pred)"
   ]
  },
  {
   "cell_type": "code",
   "execution_count": 19,
   "metadata": {},
   "outputs": [
    {
     "name": "stdout",
     "output_type": "stream",
     "text": [
      "              precision    recall  f1-score   support\n",
      "\n",
      "           0       0.50      0.86      0.63         7\n",
      "           1       0.88      0.54      0.67        13\n",
      "           2       1.00      1.00      1.00        10\n",
      "\n",
      "    accuracy                           0.77        30\n",
      "   macro avg       0.79      0.80      0.77        30\n",
      "weighted avg       0.83      0.77      0.77        30\n",
      "\n"
     ]
    }
   ],
   "source": [
    "# check the accuracy of the model's prediction\n",
    "# perceptron acts as a classifier\n",
    "print(classification_report(y_test, y_pred))\n",
    "\n",
    "# when we split our data into training and test sets, we didn't set a random seed, \n",
    "# so that x (training & test) set was randomly sampled\n",
    "\n",
    "# when you don't set a seed, you see slightly different results on each iteration of the code"
   ]
  },
  {
   "cell_type": "code",
   "execution_count": null,
   "metadata": {},
   "outputs": [],
   "source": [
    "# results of original case from the author\n",
    "# if it predicted a value of 0 (index) -> not a very precise prediction\n",
    "# if it predicted a value of 1 (index) -> not a compete prediction, so there's probably more values out there"
   ]
  }
 ],
 "metadata": {
  "kernelspec": {
   "display_name": "Python 3 (ipykernel)",
   "language": "python",
   "name": "python3"
  },
  "language_info": {
   "codemirror_mode": {
    "name": "ipython",
    "version": 3
   },
   "file_extension": ".py",
   "mimetype": "text/x-python",
   "name": "python",
   "nbconvert_exporter": "python",
   "pygments_lexer": "ipython3",
   "version": "3.8.5"
  }
 },
 "nbformat": 4,
 "nbformat_minor": 2
}
